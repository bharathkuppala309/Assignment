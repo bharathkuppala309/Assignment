{
 "cells": [
  {
   "cell_type": "markdown",
   "metadata": {},
   "source": [
    "# 1. Find the list of words that are longer than n from a given list of words\n",
    "\n",
    "\n"
   ]
  },
  {
   "cell_type": "code",
   "execution_count": 1,
   "metadata": {},
   "outputs": [
    {
     "name": "stdout",
     "output_type": "stream",
     "text": [
      "['Python', 'program', 'find', 'list', 'words', 'that', 'longer', 'than', 'from', 'given', 'list', 'words.']\n"
     ]
    }
   ],
   "source": [
    "def long_words(n,str):\n",
    "    words = []\n",
    "    txt = str.split(\" \")\n",
    "    for x in txt:\n",
    "        if len(x)>n:\n",
    "            words.append(x)\n",
    "    return words\n",
    "\n",
    "\n",
    "print(long_words(3, 'Python program to find the list of words that are longer than n from a given list of words.'))\n",
    "        \n"
   ]
  },
  {
   "cell_type": "markdown",
   "metadata": {},
   "source": [
    "# 2 Write a Python function that takes two lists and returns True if they have at least one common member."
   ]
  },
  {
   "cell_type": "code",
   "execution_count": 2,
   "metadata": {},
   "outputs": [
    {
     "name": "stdout",
     "output_type": "stream",
     "text": [
      "True\n"
     ]
    }
   ],
   "source": [
    "\n",
    "\n",
    "lst1 = [1,2,3,4,5,56]\n",
    "lst2 = [2,4,5,67,8,3]\n",
    "\n",
    "def common_member(lst1,lst2):\n",
    "    for x in lst1:\n",
    "        for y in lst2:\n",
    "            if x==y:\n",
    "                return True\n",
    "           \n",
    "print(common_member(lst1,lst2))\n"
   ]
  },
  {
   "cell_type": "markdown",
   "metadata": {},
   "source": [
    "# 3 Write a Python program to print the numbers of a specified list after removing even numbers from it."
   ]
  },
  {
   "cell_type": "code",
   "execution_count": 3,
   "metadata": {},
   "outputs": [
    {
     "name": "stdout",
     "output_type": "stream",
     "text": [
      "[7, 120, 25, 20, 27]\n"
     ]
    }
   ],
   "source": [
    "num = [7, 8, 120, 25, 44, 20, 27]\n",
    "\n",
    "for x in num:\n",
    "    if x%2 == 0:\n",
    "        num.remove(x)\n",
    "print(num)"
   ]
  },
  {
   "cell_type": "markdown",
   "metadata": {},
   "source": [
    "# 4 Write a Python program to generate and print a list of first and last 5 elements where the values are square of numbers between 1 and 30 (both included)"
   ]
  },
  {
   "cell_type": "code",
   "execution_count": 4,
   "metadata": {},
   "outputs": [
    {
     "name": "stdout",
     "output_type": "stream",
     "text": [
      "([1, 4, 9, 16, 25], [676, 729, 784, 841, 900])\n"
     ]
    }
   ],
   "source": [
    "def elements():\n",
    "    l = list()\n",
    "    for x in range(1,31):\n",
    "        l.append(x**2)\n",
    "    \n",
    "    return l[:5], l[-5:]\n",
    "\n",
    "print(elements())"
   ]
  },
  {
   "cell_type": "markdown",
   "metadata": {},
   "source": [
    "# 5.Write a Python program to find the second smallest number in a list."
   ]
  },
  {
   "cell_type": "code",
   "execution_count": 5,
   "metadata": {},
   "outputs": [
    {
     "data": {
      "text/plain": [
       "(25, [7, 25, 20, 27, 120])"
      ]
     },
     "execution_count": 5,
     "metadata": {},
     "output_type": "execute_result"
    }
   ],
   "source": [
    "lst = [7, 120, 25, 20, 27]\n",
    "\n",
    "\n",
    "def smallest_number(lst):\n",
    "    while True:\n",
    "        corrected = False\n",
    "        for i in range(0,len(lst)-1):\n",
    "            if lst[i]>lst[i+1]:\n",
    "                lst[i],lst[i+1] = lst[i+1],lst[i]\n",
    "                corrected = True\n",
    "        \n",
    "        return lst[1],lst\n",
    "smallest_number(lst)"
   ]
  },
  {
   "cell_type": "markdown",
   "metadata": {},
   "source": [
    "# 6. Write a Python script to sort (ascending) a dictionary by value"
   ]
  },
  {
   "cell_type": "code",
   "execution_count": 6,
   "metadata": {},
   "outputs": [
    {
     "name": "stdout",
     "output_type": "stream",
     "text": [
      "{0: 0, 2: 1, 1: 2, 4: 3, 3: 4}\n"
     ]
    }
   ],
   "source": [
    "d = {1: 2, 3: 4, 4: 3, 2: 1, 0: 0}\n",
    "\n",
    "sorted_d = {}\n",
    "y = sorted(d.values())\n",
    "\n",
    "\n",
    "for x in y:\n",
    "    for k,y in d.items():\n",
    "        if x == y:\n",
    "            sorted_d.update({k:y})\n",
    "print(sorted_d)"
   ]
  },
  {
   "cell_type": "markdown",
   "metadata": {},
   "source": [
    "# 7.Write a Python program to count number of items in a dictionary value that is a list."
   ]
  },
  {
   "cell_type": "code",
   "execution_count": 12,
   "metadata": {},
   "outputs": [
    {
     "name": "stdout",
     "output_type": "stream",
     "text": [
      "5\n"
     ]
    }
   ],
   "source": [
    "dict =  {'Alex': ['subj1', 'subj2', 'subj3'], 'David': ['subj1', 'subj2']}\n",
    "count = 0\n",
    "for k,v in dict.items():\n",
    "    outpt = len(v)\n",
    "    count = count+outpt\n",
    "print(count)\n"
   ]
  },
  {
   "cell_type": "markdown",
   "metadata": {},
   "source": [
    "# 8.Write a Python program to sort Counter by value. "
   ]
  },
  {
   "cell_type": "code",
   "execution_count": 13,
   "metadata": {},
   "outputs": [
    {
     "name": "stdout",
     "output_type": "stream",
     "text": [
      "{'Math': 81, 'Physics': 83, 'Chemistry': 87}\n",
      "[('Chemistry', 87), ('Physics', 83), ('Math', 81)]\n"
     ]
    }
   ],
   "source": [
    "d= {'Math':81, 'Physics':83, 'Chemistry':87}\n",
    "\n",
    "sorted_d = {}\n",
    "y = sorted(d.values())\n",
    "\n",
    "for x in y:\n",
    "    for key,val in d.items():\n",
    "        if val==x:\n",
    "            sorted_d.update({key:val})\n",
    "\n",
    "print(sorted_d)\n",
    "\n",
    "# other Way\n",
    "from collections import Counter\n",
    "x = Counter({'Math':81, 'Physics':83, 'Chemistry':87})\n",
    "print(x.most_common())\n"
   ]
  },
  {
   "cell_type": "markdown",
   "metadata": {},
   "source": [
    "# 9.Write a Python program to combine values in python list of dictionaries."
   ]
  },
  {
   "cell_type": "code",
   "execution_count": 14,
   "metadata": {},
   "outputs": [
    {
     "name": "stdout",
     "output_type": "stream",
     "text": [
      "Counter({'item1': 1150, 'item2': 300})\n"
     ]
    }
   ],
   "source": [
    "from collections import Counter\n",
    "item_list = [{'item': 'item1', 'amount': 400}, {'item': 'item2', 'amount': 300}, {'item': 'item1', 'amount': 750}]\n",
    "result = Counter()\n",
    "for d in item_list:\n",
    "    result[d['item']] += d['amount']\n",
    "print(result) \n"
   ]
  },
  {
   "cell_type": "markdown",
   "metadata": {},
   "source": [
    "# 10.Write a Python program to print all unique values in a dictionary."
   ]
  },
  {
   "cell_type": "code",
   "execution_count": 15,
   "metadata": {},
   "outputs": [
    {
     "name": "stdout",
     "output_type": "stream",
     "text": [
      "{'S005', 'S007', 'S001', 'S009', 'S002'}\n"
     ]
    }
   ],
   "source": [
    "l = [{\"V\":\"S001\"}, {\"V\": \"S002\"}, {\"VI\": \"S001\"}, {\"VI\": \"S005\"}, {\"VII\":\"S005\"}, {\"V\":\"S009\"},{\"VIII\":\"S007\"}]\n",
    "\n",
    "# val for dic in L for val in dic.values()\n",
    "s = set()\n",
    "for dic in l:\n",
    "    for val in dic.values():\n",
    "        s.add(val)\n",
    "\n",
    "        \n",
    "        \n",
    "        \n",
    "    \n",
    "print(s)\n"
   ]
  },
  {
   "cell_type": "code",
   "execution_count": null,
   "metadata": {},
   "outputs": [],
   "source": []
  }
 ],
 "metadata": {
  "kernelspec": {
   "display_name": "Python 3",
   "language": "python",
   "name": "python3"
  },
  "language_info": {
   "codemirror_mode": {
    "name": "ipython",
    "version": 3
   },
   "file_extension": ".py",
   "mimetype": "text/x-python",
   "name": "python",
   "nbconvert_exporter": "python",
   "pygments_lexer": "ipython3",
   "version": "3.7.4"
  }
 },
 "nbformat": 4,
 "nbformat_minor": 2
}
